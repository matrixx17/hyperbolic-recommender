{
 "cells": [
  {
   "cell_type": "code",
   "execution_count": 38,
   "id": "ec6a2564-8bb4-45e6-a321-84f3b531b99e",
   "metadata": {
    "tags": []
   },
   "outputs": [],
   "source": [
    "import json, gzip, itertools, pathlib, time\n",
    "import pandas as pd\n",
    "import pyarrow as pa, pyarrow.parquet as pq\n",
    "\n",
    "ROOT = pathlib.Path().resolve().parents[0]\n",
    "DATA = ROOT/\"data\"\n",
    "# RAW = pathlib.Path(\"data/raw/Electronics_5.json.gz\")\n",
    "RAW_5CORE  = DATA / \"raw\" / \"Electronics_5.json.gz\"\n",
    "RAW_META = DATA / \"raw\" / \"meta_Electronics.json.gz\"\n",
    "CLICK_OUT = DATA / \"clicks.parquet\"\n",
    "TAXO_OUT  = DATA / \"taxonomy_edges.csv\""
   ]
  },
  {
   "cell_type": "code",
   "execution_count": 39,
   "id": "b23801a6-bf52-4688-91dc-21be8eadf223",
   "metadata": {
    "tags": []
   },
   "outputs": [],
   "source": [
    "def deepest_list(cat_field):\n",
    "    \"\"\"\n",
    "    Accepts:\n",
    "      • list-of-strings  -> returns the list itself\n",
    "      • list-of-lists    -> returns the last inner list\n",
    "      • None / anything else -> returns []\n",
    "    \"\"\"\n",
    "    if not cat_field:\n",
    "        return []\n",
    "    if all(isinstance(x, list) for x in cat_field):\n",
    "        return cat_field[-1]\n",
    "    elif all(isinstance(x, str) for x in cat_field):\n",
    "        return cat_field\n",
    "    else:\n",
    "        return []"
   ]
  },
  {
   "cell_type": "code",
   "execution_count": 40,
   "id": "711b7dcc-b26b-4111-9351-33a2cec8ac65",
   "metadata": {
    "tags": []
   },
   "outputs": [
    {
     "name": "stdout",
     "output_type": "stream",
     "text": [
      "Metadata dict size: 756,077  |  33.1s\n"
     ]
    }
   ],
   "source": [
    "asin_to_cat = {}\n",
    "t = time.time();\n",
    "\n",
    "with gzip.open(RAW_META, \"rt\") as f:\n",
    "    for line in f:\n",
    "        m = json.loads(line)\n",
    "        path_lists = m.get(\"categories\") or m.get(\"category\")\n",
    "        path = deepest_list(path_lists)\n",
    "        if path:\n",
    "            asin_to_cat[m[\"asin\"]] = path\n",
    "print(f\"Metadata dict size: {len(asin_to_cat):,}  |  {time.time()-t:.1f}s\")"
   ]
  },
  {
   "cell_type": "code",
   "execution_count": 41,
   "id": "095c3974-6d44-4500-9c52-fac361e83144",
   "metadata": {
    "tags": []
   },
   "outputs": [
    {
     "name": "stdout",
     "output_type": "stream",
     "text": [
      "500,000 review lines parsed…\n",
      "1,000,000 review lines parsed…\n",
      "1,500,000 review lines parsed…\n",
      "2,000,000 review lines parsed…\n",
      "2,500,000 review lines parsed…\n",
      "3,000,000 review lines parsed…\n",
      "3,500,000 review lines parsed…\n",
      "4,000,000 review lines parsed…\n",
      "4,500,000 review lines parsed…\n",
      "5,000,000 review lines parsed…\n",
      "5,500,000 review lines parsed…\n",
      "6,000,000 review lines parsed…\n",
      "6,500,000 review lines parsed…\n",
      "Reviews parsed: 6,739,590  |  30.0s\n"
     ]
    }
   ],
   "source": [
    "users, items, stamps, cat_paths = [], [], [], []\n",
    "t0 = time.time()\n",
    "\n",
    "with gzip.open(RAW_5CORE, \"rt\") as f:\n",
    "    for n, line in enumerate(f, 1):\n",
    "        r = json.loads(line)\n",
    "        users.append(r[\"reviewerID\"])\n",
    "        items.append(r[\"asin\"])\n",
    "        stamps.append(r[\"unixReviewTime\"])\n",
    "\n",
    "        raw_cat = r.get(\"category\")\n",
    "        path = deepest_list(raw_cat) if raw_cat else asin_to_cat.get(r[\"asin\"], [])\n",
    "        cat_paths.append(path)\n",
    "\n",
    "        if n % 500_000 == 0:\n",
    "            print(f\"{n:,} review lines parsed…\")\n",
    "print(f\"Reviews parsed: {len(users):,}  |  {time.time()-t0:.1f}s\")"
   ]
  },
  {
   "cell_type": "code",
   "execution_count": 42,
   "id": "16b274f7-8c77-40ed-a786-cfab2ab8fe16",
   "metadata": {
    "tags": []
   },
   "outputs": [
    {
     "name": "stdout",
     "output_type": "stream",
     "text": [
      "Wrote /Users/vedantajain/hrec/data/clicks.parquet | size = 78.8 MB\n"
     ]
    }
   ],
   "source": [
    "CLICK_OUT.parent.mkdir(parents=True, exist_ok=True)\n",
    "pq.write_table(\n",
    "    pa.Table.from_pydict({\n",
    "        \"user_id\": users,\n",
    "        \"item_id\": items,\n",
    "        \"ts\": stamps\n",
    "    }),\n",
    "    CLICK_OUT,\n",
    "    compression=\"zstd\"\n",
    ")\n",
    "print(\"Wrote\", CLICK_OUT, \"| size =\", round(CLICK_OUT.stat().st_size / 1e6, 1), \"MB\")"
   ]
  },
  {
   "cell_type": "code",
   "execution_count": 43,
   "id": "720c3a3c-2636-495d-a06c-e93b45cd1d06",
   "metadata": {
    "tags": []
   },
   "outputs": [
    {
     "name": "stdout",
     "output_type": "stream",
     "text": [
      "Taxonomy edges: 4256\n",
      "Wrote /Users/vedantajain/hrec/data/taxonomy_edges.csv\n"
     ]
    },
    {
     "data": {
      "text/html": [
       "<div>\n",
       "<style scoped>\n",
       "    .dataframe tbody tr th:only-of-type {\n",
       "        vertical-align: middle;\n",
       "    }\n",
       "\n",
       "    .dataframe tbody tr th {\n",
       "        vertical-align: top;\n",
       "    }\n",
       "\n",
       "    .dataframe thead th {\n",
       "        text-align: right;\n",
       "    }\n",
       "</style>\n",
       "<table border=\"1\" class=\"dataframe\">\n",
       "  <thead>\n",
       "    <tr style=\"text-align: right;\">\n",
       "      <th></th>\n",
       "      <th>parent_id</th>\n",
       "      <th>child_id</th>\n",
       "    </tr>\n",
       "  </thead>\n",
       "  <tbody>\n",
       "    <tr>\n",
       "      <th>0</th>\n",
       "      <td>Cooling Pads &amp; External Fans</td>\n",
       "      <td>Aluminum</td>\n",
       "    </tr>\n",
       "    <tr>\n",
       "      <th>1</th>\n",
       "      <td>Messenger Bags</td>\n",
       "      <td>Colombian Leather</td>\n",
       "    </tr>\n",
       "    <tr>\n",
       "      <th>2</th>\n",
       "      <td>Imported</td>\n",
       "      <td>38 centimeters high</td>\n",
       "    </tr>\n",
       "    <tr>\n",
       "      <th>3</th>\n",
       "      <td>Briefcases</td>\n",
       "      <td>Padded compartment protects laptops up to 16\"</td>\n",
       "    </tr>\n",
       "    <tr>\n",
       "      <th>4</th>\n",
       "      <td>Posing Props</td>\n",
       "      <td>100% Polyester</td>\n",
       "    </tr>\n",
       "  </tbody>\n",
       "</table>\n",
       "</div>"
      ],
      "text/plain": [
       "                      parent_id                                       child_id\n",
       "0  Cooling Pads & External Fans                                       Aluminum\n",
       "1                Messenger Bags                              Colombian Leather\n",
       "2                      Imported                            38 centimeters high\n",
       "3                    Briefcases  Padded compartment protects laptops up to 16\"\n",
       "4                  Posing Props                                 100% Polyester"
      ]
     },
     "execution_count": 43,
     "metadata": {},
     "output_type": "execute_result"
    }
   ],
   "source": [
    "edge_set = set()\n",
    "for path in cat_paths:\n",
    "    edge_set.update(itertools.pairwise(path))   # handles empty list safely\n",
    "\n",
    "taxo_df = pd.DataFrame(list(edge_set), columns=[\"parent_id\", \"child_id\"])\n",
    "TAXO_OUT.parent.mkdir(parents=True, exist_ok=True)\n",
    "taxo_df.to_csv(TAXO_OUT, index=False)\n",
    "print(\"Taxonomy edges:\", len(taxo_df))\n",
    "print(\"Wrote\", TAXO_OUT)\n",
    "taxo_df.head()"
   ]
  },
  {
   "cell_type": "code",
   "execution_count": null,
   "id": "a8428aa9-9044-4068-ba82-4d987c68a925",
   "metadata": {},
   "outputs": [],
   "source": []
  }
 ],
 "metadata": {
  "kernelspec": {
   "display_name": "Python (hrec)",
   "language": "python",
   "name": "hrec"
  },
  "language_info": {
   "codemirror_mode": {
    "name": "ipython",
    "version": 3
   },
   "file_extension": ".py",
   "mimetype": "text/x-python",
   "name": "python",
   "nbconvert_exporter": "python",
   "pygments_lexer": "ipython3",
   "version": "3.12.2"
  }
 },
 "nbformat": 4,
 "nbformat_minor": 5
}
