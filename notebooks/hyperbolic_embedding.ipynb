{
 "cells": [
  {
   "cell_type": "code",
   "execution_count": 1,
   "id": "2b5c41af-8bdd-4a24-8914-103816b51710",
   "metadata": {
    "tags": []
   },
   "outputs": [
    {
     "name": "stdout",
     "output_type": "stream",
     "text": [
      "Detected IPython. Loading juliacall extension. See https://juliapy.github.io/PythonCall.jl/stable/compat/#IPython\n"
     ]
    },
    {
     "name": "stderr",
     "output_type": "stream",
     "text": [
      "  Activating project at `~/hrec/libs/hyperheatkernel/hyperheatpkg/julia`\n",
      "  Activating project at `~/.julia/environments/v1.11`\n"
     ]
    },
    {
     "name": "stdout",
     "output_type": "stream",
     "text": [
      "Edge file size: 1005.2 MB\n"
     ]
    }
   ],
   "source": [
    "import numpy as np, pandas as pd, scipy.sparse as sp, pathlib, time\n",
    "from hyperheatpkg import hyperbolic_p_arr\n",
    "\n",
    "ROOT = pathlib.Path().resolve().parents[0]\n",
    "INTER = ROOT / \"intermediate\"\n",
    "EDGE_TSV = INTER / \"edges.tsv\"\n",
    "AFF_PARQUET = INTER / \"affinity.parquet\"\n",
    "\n",
    "T = 0.5     # diffusion time\n",
    "DIM_N = 3     # 3-dim hyperbolic space\n",
    "\n",
    "print(\"Edge file size:\", round(EDGE_TSV.stat().st_size/1e6,1), \"MB\")"
   ]
  },
  {
   "cell_type": "code",
   "execution_count": 2,
   "id": "6960c636-fdc7-475c-b5c1-ce31e079aeee",
   "metadata": {
    "tags": []
   },
   "outputs": [
    {
     "name": "stdout",
     "output_type": "stream",
     "text": [
      "Loaded 41,862,368 edges  in 7.0s\n"
     ]
    }
   ],
   "source": [
    "# convert weight to distance (rho)\n",
    "t0 = time.time()\n",
    "\n",
    "\n",
    "edges = pd.read_csv(EDGE_TSV, sep=\"\\t\", header=None,\n",
    "                    names=[\"i\",\"j\",\"w\"],\n",
    "                    dtype={\"i\": str, \"j\": str, \"w\": float})\n",
    "\n",
    "print(f\"Loaded {len(edges):,} edges  in {time.time()-t0:.1f}s\")\n",
    "\n",
    "# edges[\"w\"] = edges[\"w\"].astype(str).str.strip()     # remove spaces\n",
    "# edges[\"w\"] = pd.to_numeric(edges[\"w\"], errors=\"coerce\")\n",
    "\n",
    "def weight_to_rho(w):\n",
    "    return 0.2 if w == 1.0 else 1.0 / w\n",
    "\n",
    "edges[\"rho\"] = edges[\"w\"].apply(weight_to_rho)"
   ]
  },
  {
   "cell_type": "code",
   "execution_count": 3,
   "id": "81406bf3-127f-4638-ad0a-ec791de66b05",
   "metadata": {
    "tags": []
   },
   "outputs": [
    {
     "name": "stdout",
     "output_type": "stream",
     "text": [
      "dtype : float64\n",
      "0    1.0\n",
      "1    1.0\n",
      "2    1.0\n",
      "3    1.0\n",
      "4    1.0\n",
      "5    2.0\n",
      "6    1.0\n",
      "7    1.0\n",
      "8    2.0\n",
      "9    1.0\n",
      "Name: w, dtype: float64\n",
      "NaNs in w : 0\n",
      "rho  min : 0.00011142061281337047\n",
      "rho  max : 0.5\n",
      "rho == 0 : 0\n"
     ]
    }
   ],
   "source": [
    "print(edges[\"w\"].head(10))\n",
    "print(\"NaNs in w :\", edges[\"w\"].isna().sum())\n",
    "print(\"rho  min :\", edges['rho'].min())\n",
    "print(\"rho  max :\", edges['rho'].max())\n",
    "print(\"rho == 0 :\", (edges['rho'] == 0).sum())"
   ]
  },
  {
   "cell_type": "code",
   "execution_count": 4,
   "id": "9293bdb6-200c-4e29-a5af-3a2fd122e433",
   "metadata": {
    "tags": []
   },
   "outputs": [
    {
     "name": "stdout",
     "output_type": "stream",
     "text": [
      "NaN count: 0\n",
      "Affinity parquet saved: /Users/vedantajain/hrec/intermediate/affinity.parquet\n"
     ]
    }
   ],
   "source": [
    "rho_arr = edges[\"rho\"].to_numpy(np.float64)\n",
    "k_arr = hyperbolic_p_arr([rho_arr, T, DIM_N])\n",
    "edges[\"k\"] = k_arr.astype(np.float32)\n",
    "\n",
    "# ensure no NaN values\n",
    "print(\"NaN count:\", np.isnan(edges['k']).sum())   # should be 0\n",
    "\n",
    "AFF_PARQUET.parent.mkdir(exist_ok=True)\n",
    "edges[[\"i\", \"j\", \"k\"]].to_parquet(AFF_PARQUET, compression=\"zstd\")\n",
    "print(\"Affinity parquet saved:\", AFF_PARQUET)"
   ]
  },
  {
   "cell_type": "code",
   "execution_count": 5,
   "id": "9546ccae-dcb2-4139-bea8-67757daad79b",
   "metadata": {
    "tags": []
   },
   "outputs": [
    {
     "name": "stdout",
     "output_type": "stream",
     "text": [
      "Loading affinities…\n",
      "Markov matrix built: (163601, 163601) | nnz = 83724731\n"
     ]
    }
   ],
   "source": [
    "print(\"Loading affinities…\")\n",
    "aff = pd.read_parquet(AFF_PARQUET)\n",
    "\n",
    "nodes = pd.Index(pd.concat([aff[\"i\"], aff[\"j\"]]).unique()).sort_values()\n",
    "idx   = pd.Series(np.arange(len(nodes)), index=nodes)\n",
    "\n",
    "row = idx[aff.i].to_numpy()\n",
    "col = idx[aff.j].to_numpy()\n",
    "data = aff.k.to_numpy(np.float32)\n",
    "\n",
    "K = sp.coo_matrix((np.concatenate([data, data]),\n",
    "                   (np.concatenate([row, col]),\n",
    "                    np.concatenate([col, row]))),\n",
    "                  shape=(len(nodes), len(nodes))).tocsr()\n",
    "\n",
    "D_inv = sp.diags(1 / np.asarray(K.sum(1)).ravel())\n",
    "M = D_inv @ K\n",
    "print(\"Markov matrix built:\", M.shape, \"| nnz =\", M.nnz)"
   ]
  },
  {
   "cell_type": "code",
   "execution_count": 6,
   "id": "f060b41d-777a-44a1-8e37-f081d00f880b",
   "metadata": {
    "tags": []
   },
   "outputs": [
    {
     "name": "stdout",
     "output_type": "stream",
     "text": [
      "Running randomized SVD …\n",
      "SVD done in 15.6s  |  X shape (163601, 32)\n"
     ]
    }
   ],
   "source": [
    "from sklearn.utils.extmath import randomized_svd\n",
    "\n",
    "EMBED_DIM = 32\n",
    "print(\"Running randomized SVD…\"); t0 = time.time()\n",
    "U, S, _ = randomized_svd(M, n_components=EMBED_DIM,\n",
    "                         random_state=42, n_iter=4)\n",
    "X = (U * np.sqrt(S)).astype(np.float32)      # |V| × 32\n",
    "print(f\"SVD done in {time.time()-t0:.1f}s  |  X shape {X.shape}\")\n",
    "\n",
    "np.save(INTER/\"euclid_vecs32.npy\", X)\n",
    "np.save(INTER/\"item_ids.npy\", nodes.to_numpy().astype(\"U\"))"
   ]
  },
  {
   "cell_type": "code",
   "execution_count": 8,
   "id": "886cacc9-9f0e-4765-9a7e-ec22bf2203ee",
   "metadata": {
    "tags": []
   },
   "outputs": [
    {
     "data": {
      "image/png": "[encoded data removed]",
      "text/plain": [
       "<Figure size 640x480 with 1 Axes>"
      ]
     },
     "metadata": {},
     "output_type": "display_data"
    }
   ],
   "source": [
    "import matplotlib.pyplot as plt\n",
    "plt.semilogy(S); plt.title(\"Diffusion Eigenvalues\"); plt.show()"
   ]
  },
  {
   "cell_type": "code",
   "execution_count": 9,
   "id": "99ecfba1-fc76-4a4d-8617-9151d9037024",
   "metadata": {
    "tags": []
   },
   "outputs": [
    {
     "name": "stdout",
     "output_type": "stream",
     "text": [
      "Hyperboloid vectors saved: artifacts/item_vecs_h33.npy\n"
     ]
    }
   ],
   "source": [
    "time_coord = np.sqrt(1.0 + (X**2).sum(axis=1, keepdims=True))\n",
    "H = np.hstack([time_coord, X]).astype(np.float32)\n",
    "\n",
    "ART = pathlib.Path(\"artifacts\"); ART.mkdir(exist_ok=True)\n",
    "np.save(ART/\"item_vecs_h33.npy\", H)\n",
    "print(\"Hyperboloid vectors saved:\", ART/\"item_vecs_h33.npy\")"
   ]
  }
 ],
 "metadata": {
  "kernelspec": {
   "display_name": "Python (hrec)",
   "language": "python",
   "name": "hrec"
  },
  "language_info": {
   "codemirror_mode": {
    "name": "ipython",
    "version": 3
   },
   "file_extension": ".py",
   "mimetype": "text/x-python",
   "name": "python",
   "nbconvert_exporter": "python",
   "pygments_lexer": "ipython3",
   "version": "3.12.2"
  }
 },
 "nbformat": 4,
 "nbformat_minor": 5
}
