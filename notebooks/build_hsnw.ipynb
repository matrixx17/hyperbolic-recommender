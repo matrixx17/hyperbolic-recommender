{
 "cells": [
  {
   "cell_type": "code",
   "execution_count": 5,
   "id": "9f0ebdef-0df5-4252-9e10-f7bcaf44aa73",
   "metadata": {
    "tags": []
   },
   "outputs": [
    {
     "name": "stdout",
     "output_type": "stream",
     "text": [
      "Index built in 1.7s\n",
      "Saved artifacts/item_hnsw.bin and artifacts/id_map.pkl\n"
     ]
    }
   ],
   "source": [
    "import hnswlib, numpy as np, pathlib, time, pickle\n",
    "\n",
    "ROOT = pathlib.Path().resolve().parents[0]\n",
    "INT = ROOT / \"intermediate\" \n",
    "\n",
    "H    = np.load(ART / \"item_vecs_h33.npy\")            \n",
    "ids  = np.load(INT / \"item_ids.npy\")                 \n",
    "\n",
    "int_ids = np.arange(len(ids), dtype=np.int32)\n",
    "id2int  = {sid: iid for sid, iid in zip(ids, int_ids)}\n",
    "\n",
    "dim = H.shape[1]\n",
    "index = hnswlib.Index(space=\"l2\", dim=dim)\n",
    "index.init_index(max_elements=len(H), ef_construction=200, M=16)\n",
    "\n",
    "t0 = time.time()\n",
    "index.add_items(H, int_ids)\n",
    "index.set_ef(128)\n",
    "print(f\"Index built in {time.time()-t0:.1f}s\")\n",
    "\n",
    "index_path = ART / \"item_hnsw.bin\"\n",
    "map_path   = ART / \"id_map.pkl\"\n",
    "\n",
    "index.save_index(str(index_path))         \n",
    "with open(map_path, \"wb\") as f:\n",
    "    pickle.dump({\"str_to_int\": id2int, \"int_to_str\": ids}, f)\n",
    "\n",
    "print(\"Saved\", index_path, \"and\", map_path)"
   ]
  },
  {
   "cell_type": "code",
   "execution_count": null,
   "id": "48713642-c53d-4f96-8cca-9ac68ec08efb",
   "metadata": {},
   "outputs": [],
   "source": []
  }
 ],
 "metadata": {
  "kernelspec": {
   "display_name": "Python (hrec)",
   "language": "python",
   "name": "hrec"
  },
  "language_info": {
   "codemirror_mode": {
    "name": "ipython",
    "version": 3
   },
   "file_extension": ".py",
   "mimetype": "text/x-python",
   "name": "python",
   "nbconvert_exporter": "python",
   "pygments_lexer": "ipython3",
   "version": "3.12.2"
  }
 },
 "nbformat": 4,
 "nbformat_minor": 5
}
