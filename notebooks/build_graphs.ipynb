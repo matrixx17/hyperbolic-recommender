{
 "cells": [
  {
   "cell_type": "code",
   "execution_count": 1,
   "id": "9de1a0a2-5a0c-4b70-9a12-e2255b5f7b5b",
   "metadata": {},
   "outputs": [
    {
     "name": "stdout",
     "output_type": "stream",
     "text": [
      "Files exist?\n",
      "  clicks : True \n",
      "  taxonomy: True\n"
     ]
    }
   ],
   "source": [
    "import pathlib, time, pandas as pd, networkx as nx\n",
    "\n",
    "ROOT = pathlib.Path().resolve().parents[0]\n",
    "DATA = ROOT / \"data\"\n",
    "INTER = ROOT / \"intermediate\"\n",
    "INTER.mkdir(exist_ok=True)\n",
    "\n",
    "CLICK_FILE = DATA / \"clicks.parquet\"\n",
    "TAXO_FILE  = DATA / \"taxonomy_edges.csv\"\n",
    "EDGE_OUT   = INTER / \"edges.tsv\"\n",
    "\n",
    "print(\"Files exist?\\n  clicks :\", CLICK_FILE.exists(), \n",
    "      \"\\n  taxonomy:\", TAXO_FILE.exists())"
   ]
  },
  {
   "cell_type": "code",
   "execution_count": 2,
   "id": "15d68d66-092f-4a64-850d-4945d02851ca",
   "metadata": {
    "tags": []
   },
   "outputs": [
    {
     "name": "stdout",
     "output_type": "stream",
     "text": [
      "Click rows: 6739590\n",
      "Co-click pairs: 41858115\n"
     ]
    },
    {
     "data": {
      "text/html": [
       "<div>\n",
       "<style scoped>\n",
       "    .dataframe tbody tr th:only-of-type {\n",
       "        vertical-align: middle;\n",
       "    }\n",
       "\n",
       "    .dataframe tbody tr th {\n",
       "        vertical-align: top;\n",
       "    }\n",
       "\n",
       "    .dataframe thead th {\n",
       "        text-align: right;\n",
       "    }\n",
       "</style>\n",
       "<table border=\"1\" class=\"dataframe\">\n",
       "  <thead>\n",
       "    <tr style=\"text-align: right;\">\n",
       "      <th></th>\n",
       "      <th>item_id_x</th>\n",
       "      <th>item_id_y</th>\n",
       "      <th>cnt</th>\n",
       "    </tr>\n",
       "  </thead>\n",
       "  <tbody>\n",
       "    <tr>\n",
       "      <th>0</th>\n",
       "      <td>0101635370</td>\n",
       "      <td>B00004T1XE</td>\n",
       "      <td>1</td>\n",
       "    </tr>\n",
       "    <tr>\n",
       "      <th>1</th>\n",
       "      <td>0101635370</td>\n",
       "      <td>B00004Z5M1</td>\n",
       "      <td>1</td>\n",
       "    </tr>\n",
       "    <tr>\n",
       "      <th>2</th>\n",
       "      <td>0101635370</td>\n",
       "      <td>B00005T3UD</td>\n",
       "      <td>1</td>\n",
       "    </tr>\n",
       "    <tr>\n",
       "      <th>3</th>\n",
       "      <td>0101635370</td>\n",
       "      <td>B00006B8BP</td>\n",
       "      <td>1</td>\n",
       "    </tr>\n",
       "    <tr>\n",
       "      <th>4</th>\n",
       "      <td>0101635370</td>\n",
       "      <td>B00006B8DX</td>\n",
       "      <td>1</td>\n",
       "    </tr>\n",
       "  </tbody>\n",
       "</table>\n",
       "</div>"
      ],
      "text/plain": [
       "    item_id_x   item_id_y  cnt\n",
       "0  0101635370  B00004T1XE    1\n",
       "1  0101635370  B00004Z5M1    1\n",
       "2  0101635370  B00005T3UD    1\n",
       "3  0101635370  B00006B8BP    1\n",
       "4  0101635370  B00006B8DX    1"
      ]
     },
     "execution_count": 2,
     "metadata": {},
     "output_type": "execute_result"
    }
   ],
   "source": [
    "import pyarrow.parquet as pq\n",
    "import pandas as pd\n",
    "\n",
    "clicks = pq.read_table(CLICK_FILE).to_pandas()\n",
    "print(\"Click rows:\", len(clicks))\n",
    "\n",
    "pairs = (\n",
    "    clicks.merge(clicks, on=\"user_id\")\n",
    "          .query(\"item_id_x < item_id_y\")          # avoid self-pairs\n",
    "          .groupby([\"item_id_x\", \"item_id_y\"])\n",
    "          .size()\n",
    "          .reset_index(name=\"cnt\")\n",
    ")\n",
    "\n",
    "print(\"Co-click pairs:\", len(pairs))\n",
    "pairs.head()\n"
   ]
  },
  {
   "cell_type": "code",
   "execution_count": 3,
   "id": "bea9239a-bf00-40c4-9da4-45af0c6de317",
   "metadata": {
    "tags": []
   },
   "outputs": [
    {
     "name": "stdout",
     "output_type": "stream",
     "text": [
      "Graph: 163,601 nodes  |  41,862,368 edges\n",
      "Wrote /Users/vedantajain/hrec/intermediate/edges.tsv\n"
     ]
    }
   ],
   "source": [
    "G = nx.Graph()\n",
    "\n",
    "# co-click edges\n",
    "G.add_weighted_edges_from(\n",
    "    pairs.itertuples(index=False, name=None)    # (src, dst, cnt)\n",
    ")\n",
    "\n",
    "# taxonomy edges\n",
    "taxo = pd.read_csv(TAXO_FILE)\n",
    "G.add_weighted_edges_from(\n",
    "    taxo.assign(cnt=1.0).itertuples(index=False, name=None)\n",
    ")\n",
    "\n",
    "print(f\"Graph: {G.number_of_nodes():,} nodes  |  {G.number_of_edges():,} edges\")\n",
    "\n",
    "nx.write_weighted_edgelist(G, EDGE_OUT)\n",
    "print(\"Wrote\", EDGE_OUT)"
   ]
  },
  {
   "cell_type": "code",
   "execution_count": 5,
   "id": "dea50065-1a90-4277-b7af-ec5683049646",
   "metadata": {
    "tags": []
   },
   "outputs": [],
   "source": [
    "import networkx as nx\n",
    "nx.write_weighted_edgelist(G, EDGE_OUT, delimiter=\"\\t\")"
   ]
  },
  {
   "cell_type": "code",
   "execution_count": null,
   "id": "6af378aa-33e7-4b8c-83b4-a345ec704556",
   "metadata": {},
   "outputs": [],
   "source": []
  }
 ],
 "metadata": {
  "kernelspec": {
   "display_name": "Python (hrec)",
   "language": "python",
   "name": "hrec"
  },
  "language_info": {
   "codemirror_mode": {
    "name": "ipython",
    "version": 3
   },
   "file_extension": ".py",
   "mimetype": "text/x-python",
   "name": "python",
   "nbconvert_exporter": "python",
   "pygments_lexer": "ipython3",
   "version": "3.12.2"
  }
 },
 "nbformat": 4,
 "nbformat_minor": 5
}
